{
 "cells": [
  {
   "cell_type": "markdown",
   "metadata": {},
   "source": [
    "# Demonstration of Spider App on All Alibaba Categories\n",
    "\n",
    "This notebook will cover the results of running the spider application on all the categories Alibaba has on its website. An example of the scraped websites is shown below.\n",
    "\n",
    "<img src='https://i.imgur.com/W9szA4w.png' />"
   ]
  },
  {
   "cell_type": "code",
   "execution_count": 1,
   "metadata": {},
   "outputs": [],
   "source": [
    "import scrapy\n",
    "from scrapy.selector import Selector\n",
    "from scrapy.http import HtmlResponse, Request, Response\n",
    "import requests\n",
    "from scrapy.http import TextResponse\n",
    "from scrapy.crawler import CrawlerProcess\n",
    "import json\n",
    "import logging\n",
    "import pandas as pd\n",
    "import re\n",
    "import numpy as np\n",
    "import matplotlib.pyplot as plt\n",
    "import seaborn as sns\n",
    "plt.style.use('fivethirtyeight')\n",
    "%matplotlib inline"
   ]
  },
  {
   "cell_type": "code",
   "execution_count": 2,
   "metadata": {},
   "outputs": [],
   "source": [
    "main_url='https://www.alibaba.com/Products'\n",
    "r = requests.get(main_url)\n",
    "response = TextResponse(r.url, body=r.text, encoding='utf-8')"
   ]
  },
  {
   "cell_type": "code",
   "execution_count": 3,
   "metadata": {},
   "outputs": [
    {
     "data": {
      "text/plain": [
       "[u'Manufacturers, Suppliers and Exporters Directory on Alibaba.com']"
      ]
     },
     "execution_count": 3,
     "metadata": {},
     "output_type": "execute_result"
    }
   ],
   "source": [
    "# title\n",
    "response.selector.xpath('//title/text()').extract()"
   ]
  },
  {
   "cell_type": "code",
   "execution_count": 4,
   "metadata": {},
   "outputs": [],
   "source": [
    "url_to_scan=response.selector.css('div.cg-main').css('div.sub-item-cont-wrapper').css('li a::attr(href)').extract()\n",
    "\n",
    "open_file='results/result.jl'\n",
    "open_file2='results/result.json' \n",
    "class JsonWriterPipeline(object):\n",
    "\n",
    "    def open_spider(self, spider):\n",
    "        self.file = open(open_file, 'w')\n",
    "\n",
    "    def close_spider(self, spider):\n",
    "        self.file.close()\n",
    "\n",
    "    def process_item(self, item, spider):\n",
    "        line = json.dumps(dict(item)) + \"\\n\"\n",
    "        self.file.write(line)\n",
    "        return item\n",
    "    \n",
    "class Ali_Spider(scrapy.Spider):\n",
    "    name = \"alibaba\"\n",
    "    start_urls = url_to_scan\n",
    "    custom_settings = {\n",
    "        'LOG_LEVEL': logging.WARNING,\n",
    "        'ITEM_PIPELINES': {'__main__.JsonWriterPipeline': 1}, # Used for pipeline 1\n",
    "        'FEED_FORMAT':'json',                                 # Used for pipeline 2\n",
    "        'FEED_URI': open_file2,                       # Used for pipeline 2\n",
    "        'DOWNLOAD_DELAY': 1 # delay between requests\n",
    "    }\n",
    "    def parse(self, response):\n",
    "        #extract\n",
    "        item_type=response.selector.xpath('//title/text()').extract()\n",
    "        item_title=response.selector.xpath('//h2[@class=\"title\"]/a/text()').extract()\n",
    "        seller_title=response.selector.xpath('//div[@class=\"stitle\"]/a/text()').extract()\n",
    "        price=response.selector.xpath('//div[@class=\"price\"]/b/text()').extract()\n",
    "        min_order=response.selector.xpath('//div[@class=\"min-order\"]/b/text()').extract()\n",
    "        item_type=item_type*len(item_title)\n",
    "\n",
    "        for item in zip(item_title,seller_title,price,min_order,item_type):\n",
    "            scraped_info = {\n",
    "            'item_title': item[0],\n",
    "            'seller_title': item[1],\n",
    "            'price': item[2],\n",
    "            'min_order': item[3],\n",
    "            'item_type': item[4]\n",
    "            }\n",
    "            yield scraped_info"
   ]
  },
  {
   "cell_type": "code",
   "execution_count": 5,
   "metadata": {},
   "outputs": [
    {
     "name": "stderr",
     "output_type": "stream",
     "text": [
      "2018-04-26 16:36:15 [scrapy.utils.log] INFO: Scrapy 1.5.0 started (bot: scrapybot)\n",
      "2018-04-26 16:36:15 [scrapy.utils.log] INFO: Versions: lxml 4.1.1.0, libxml2 2.9.4, cssselect 1.0.3, parsel 1.4.0, w3lib 1.19.0, Twisted 17.5.0, Python 2.7.14 |Anaconda custom (64-bit)| (default, Dec  7 2017, 11:07:58) - [GCC 4.2.1 Compatible Clang 4.0.1 (tags/RELEASE_401/final)], pyOpenSSL 17.5.0 (OpenSSL 1.0.2o  27 Mar 2018), cryptography 2.1.4, Platform Darwin-17.4.0-x86_64-i386-64bit\n",
      "2018-04-26 16:36:15 [scrapy.crawler] INFO: Overridden settings: {'FEED_FORMAT': 'json', 'FEED_URI': 'results/result.json', 'LOG_LEVEL': 30, 'USER_AGENT': 'Mozilla/4.0 (compatible; MSIE 7.0; Windows NT 5.1)', 'DOWNLOAD_DELAY': 1}\n"
     ]
    }
   ],
   "source": [
    "process = CrawlerProcess({\n",
    "    'USER_AGENT': 'Mozilla/4.0 (compatible; MSIE 7.0; Windows NT 5.1)'\n",
    "})\n",
    "\n",
    "process.crawl(Ali_Spider)\n",
    "process.start(stop_after_crawl=True)"
   ]
  },
  {
   "cell_type": "code",
   "execution_count": 6,
   "metadata": {},
   "outputs": [
    {
     "name": "stdout",
     "output_type": "stream",
     "text": [
      "{\"item_title\": \"Alloy frame outdoor pop up tent,folding tent canopy for exhibition/trade show Customized quick roof top folding tent\", \"min_order\": \"50 Sets\", \"seller_title\": \"Heshan Feng Yushun Outdoor Products Co., Ltd.\", \"price\": \" US $18.0-19.01 \", \"item_type\": \"Trade Show Tent, Trade Show Tent Products, Trade Show Tent Manufacturers, Trade Show Tent Suppliers and Exporters Directory \"}\r\n",
      "{\"item_title\": \"Waterproof PU trade show pop up canopy outdoor tent 10x10\", \"min_order\": \"1 Piece\", \"seller_title\": \"Shenyang Morning Banner Display Co., Ltd.\", \"price\": \" US $50-200 \", \"item_type\": \"Trade Show Tent, Trade Show Tent Products, Trade Show Tent Manufacturers, Trade Show Tent Suppliers and Exporters Directory \"}\r\n"
     ]
    }
   ],
   "source": [
    "!tail -n 2 results/result.jl"
   ]
  },
  {
   "cell_type": "code",
   "execution_count": 7,
   "metadata": {},
   "outputs": [
    {
     "data": {
      "text/html": [
       "<div>\n",
       "<style scoped>\n",
       "    .dataframe tbody tr th:only-of-type {\n",
       "        vertical-align: middle;\n",
       "    }\n",
       "\n",
       "    .dataframe tbody tr th {\n",
       "        vertical-align: top;\n",
       "    }\n",
       "\n",
       "    .dataframe thead th {\n",
       "        text-align: right;\n",
       "    }\n",
       "</style>\n",
       "<table border=\"1\" class=\"dataframe\">\n",
       "  <thead>\n",
       "    <tr style=\"text-align: right;\">\n",
       "      <th></th>\n",
       "      <th>item_title</th>\n",
       "      <th>item_type</th>\n",
       "      <th>min_order</th>\n",
       "      <th>price</th>\n",
       "      <th>seller_title</th>\n",
       "    </tr>\n",
       "  </thead>\n",
       "  <tbody>\n",
       "    <tr>\n",
       "      <th>0</th>\n",
       "      <td>High quality perlite for Horticulture</td>\n",
       "      <td>Agricultural Growing Media, Agricultural Growi...</td>\n",
       "      <td>1 Cubic Meter</td>\n",
       "      <td>US $25-60</td>\n",
       "      <td>Lingshou County Zhongrun Minerals Co., Ltd.</td>\n",
       "    </tr>\n",
       "    <tr>\n",
       "      <th>1</th>\n",
       "      <td>Hot Sale Perlite Filter Aid Expanded Perlite P...</td>\n",
       "      <td>Agricultural Growing Media, Agricultural Growi...</td>\n",
       "      <td>1 Ton</td>\n",
       "      <td>US $290-356</td>\n",
       "      <td>Xinyang Xuri Filter Aid Co., Ltd.</td>\n",
       "    </tr>\n",
       "    <tr>\n",
       "      <th>2</th>\n",
       "      <td>Horticultural Perlite</td>\n",
       "      <td>Agricultural Growing Media, Agricultural Growi...</td>\n",
       "      <td>72 Cubic Meters</td>\n",
       "      <td>US $30-40</td>\n",
       "      <td>Shijiazhuang Kedahua Imp. &amp; Exp. Trade Co., Ltd.</td>\n",
       "    </tr>\n",
       "    <tr>\n",
       "      <th>3</th>\n",
       "      <td>Casting Slag Remover for Cast Iron</td>\n",
       "      <td>Agricultural Growing Media, Agricultural Growi...</td>\n",
       "      <td>1 Ton</td>\n",
       "      <td>US $650-750</td>\n",
       "      <td>Qingdao FSK Foundry Materials Co., Ltd.</td>\n",
       "    </tr>\n",
       "    <tr>\n",
       "      <th>4</th>\n",
       "      <td>expanded construction grade insulation perlite</td>\n",
       "      <td>Agricultural Growing Media, Agricultural Growi...</td>\n",
       "      <td>1 Metric Ton</td>\n",
       "      <td>US $120-180</td>\n",
       "      <td>Shijiazhuang Mining Imp &amp; Exp Trade Co., Ltd.</td>\n",
       "    </tr>\n",
       "  </tbody>\n",
       "</table>\n",
       "</div>"
      ],
      "text/plain": [
       "                                          item_title  \\\n",
       "0              High quality perlite for Horticulture   \n",
       "1  Hot Sale Perlite Filter Aid Expanded Perlite P...   \n",
       "2                              Horticultural Perlite   \n",
       "3                 Casting Slag Remover for Cast Iron   \n",
       "4     expanded construction grade insulation perlite   \n",
       "\n",
       "                                           item_type        min_order  \\\n",
       "0  Agricultural Growing Media, Agricultural Growi...    1 Cubic Meter   \n",
       "1  Agricultural Growing Media, Agricultural Growi...            1 Ton   \n",
       "2  Agricultural Growing Media, Agricultural Growi...  72 Cubic Meters   \n",
       "3  Agricultural Growing Media, Agricultural Growi...            1 Ton   \n",
       "4  Agricultural Growing Media, Agricultural Growi...     1 Metric Ton   \n",
       "\n",
       "           price                                      seller_title  \n",
       "0     US $25-60        Lingshou County Zhongrun Minerals Co., Ltd.  \n",
       "1   US $290-356                  Xinyang Xuri Filter Aid Co., Ltd.  \n",
       "2     US $30-40   Shijiazhuang Kedahua Imp. & Exp. Trade Co., Ltd.  \n",
       "3   US $650-750            Qingdao FSK Foundry Materials Co., Ltd.  \n",
       "4   US $120-180      Shijiazhuang Mining Imp & Exp Trade Co., Ltd.  "
      ]
     },
     "execution_count": 7,
     "metadata": {},
     "output_type": "execute_result"
    }
   ],
   "source": [
    "dfjson = pd.read_json('results/result.json')\n",
    "dfjson.head()\n",
    "#dfjson.to_csv('df_output.csv', encoding='utf-8',index=False)"
   ]
  },
  {
   "cell_type": "code",
   "execution_count": 11,
   "metadata": {},
   "outputs": [
    {
     "data": {
      "text/html": [
       "<div>\n",
       "<style scoped>\n",
       "    .dataframe tbody tr th:only-of-type {\n",
       "        vertical-align: middle;\n",
       "    }\n",
       "\n",
       "    .dataframe tbody tr th {\n",
       "        vertical-align: top;\n",
       "    }\n",
       "\n",
       "    .dataframe thead th {\n",
       "        text-align: right;\n",
       "    }\n",
       "</style>\n",
       "<table border=\"1\" class=\"dataframe\">\n",
       "  <thead>\n",
       "    <tr style=\"text-align: right;\">\n",
       "      <th></th>\n",
       "      <th>item_title</th>\n",
       "      <th>item_type</th>\n",
       "      <th>min_order</th>\n",
       "      <th>price</th>\n",
       "      <th>seller_title</th>\n",
       "    </tr>\n",
       "  </thead>\n",
       "  <tbody>\n",
       "    <tr>\n",
       "      <th>35117</th>\n",
       "      <td>Free design canopy printing cheap custom print...</td>\n",
       "      <td>Trade Show Tent, Trade Show Tent Products, Tra...</td>\n",
       "      <td>1</td>\n",
       "      <td>150-399</td>\n",
       "      <td>Shanghai Tongjie Image Production Co., Ltd.</td>\n",
       "    </tr>\n",
       "    <tr>\n",
       "      <th>35118</th>\n",
       "      <td>3m*6m Folding Pop Up Custom Gazebo Canopy fold...</td>\n",
       "      <td>Trade Show Tent, Trade Show Tent Products, Tra...</td>\n",
       "      <td>1</td>\n",
       "      <td>45-299</td>\n",
       "      <td>Wuyi Hotter Outdoor Products Co., Ltd.</td>\n",
       "    </tr>\n",
       "    <tr>\n",
       "      <th>35119</th>\n",
       "      <td>2016 New Products Cheap Aluminium Frame Custom...</td>\n",
       "      <td>Trade Show Tent, Trade Show Tent Products, Tra...</td>\n",
       "      <td>1</td>\n",
       "      <td>299-849.9</td>\n",
       "      <td>Jiangmen Eastern Signs Manufacturing Co., Ltd....</td>\n",
       "    </tr>\n",
       "    <tr>\n",
       "      <th>35120</th>\n",
       "      <td>Alloy frame outdoor pop up tent,folding tent c...</td>\n",
       "      <td>Trade Show Tent, Trade Show Tent Products, Tra...</td>\n",
       "      <td>50</td>\n",
       "      <td>18.0-19.01</td>\n",
       "      <td>Heshan Feng Yushun Outdoor Products Co., Ltd.</td>\n",
       "    </tr>\n",
       "    <tr>\n",
       "      <th>35121</th>\n",
       "      <td>Waterproof PU trade show pop up canopy outdoor...</td>\n",
       "      <td>Trade Show Tent, Trade Show Tent Products, Tra...</td>\n",
       "      <td>1</td>\n",
       "      <td>50-200</td>\n",
       "      <td>Shenyang Morning Banner Display Co., Ltd.</td>\n",
       "    </tr>\n",
       "  </tbody>\n",
       "</table>\n",
       "</div>"
      ],
      "text/plain": [
       "                                              item_title  \\\n",
       "35117  Free design canopy printing cheap custom print...   \n",
       "35118  3m*6m Folding Pop Up Custom Gazebo Canopy fold...   \n",
       "35119  2016 New Products Cheap Aluminium Frame Custom...   \n",
       "35120  Alloy frame outdoor pop up tent,folding tent c...   \n",
       "35121  Waterproof PU trade show pop up canopy outdoor...   \n",
       "\n",
       "                                               item_type min_order  \\\n",
       "35117  Trade Show Tent, Trade Show Tent Products, Tra...         1   \n",
       "35118  Trade Show Tent, Trade Show Tent Products, Tra...         1   \n",
       "35119  Trade Show Tent, Trade Show Tent Products, Tra...         1   \n",
       "35120  Trade Show Tent, Trade Show Tent Products, Tra...        50   \n",
       "35121  Trade Show Tent, Trade Show Tent Products, Tra...         1   \n",
       "\n",
       "            price                                       seller_title  \n",
       "35117     150-399        Shanghai Tongjie Image Production Co., Ltd.  \n",
       "35118      45-299             Wuyi Hotter Outdoor Products Co., Ltd.  \n",
       "35119   299-849.9  Jiangmen Eastern Signs Manufacturing Co., Ltd....  \n",
       "35120  18.0-19.01      Heshan Feng Yushun Outdoor Products Co., Ltd.  \n",
       "35121      50-200          Shenyang Morning Banner Display Co., Ltd.  "
      ]
     },
     "execution_count": 11,
     "metadata": {},
     "output_type": "execute_result"
    }
   ],
   "source": [
    "dfjson.tail()"
   ]
  },
  {
   "cell_type": "code",
   "execution_count": 12,
   "metadata": {},
   "outputs": [
    {
     "data": {
      "text/plain": [
       "(35122, 5)"
      ]
     },
     "execution_count": 12,
     "metadata": {},
     "output_type": "execute_result"
    }
   ],
   "source": [
    "dfjson.shape"
   ]
  }
 ],
 "metadata": {
  "kernelspec": {
   "display_name": "Python 2",
   "language": "python",
   "name": "python2"
  },
  "language_info": {
   "codemirror_mode": {
    "name": "ipython",
    "version": 2
   },
   "file_extension": ".py",
   "mimetype": "text/x-python",
   "name": "python",
   "nbconvert_exporter": "python",
   "pygments_lexer": "ipython2",
   "version": "2.7.14"
  }
 },
 "nbformat": 4,
 "nbformat_minor": 2
}
